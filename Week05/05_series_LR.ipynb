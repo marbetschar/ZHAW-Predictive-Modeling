{
 "cells": [
  {
   "metadata": {
    "ExecuteTime": {
     "end_time": "2025-10-20T12:33:48.657185Z",
     "start_time": "2025-10-20T12:33:48.654532Z"
    }
   },
   "cell_type": "code",
   "source": [
    "import numpy as np\n",
    "import statsmodels.api as sm"
   ],
   "id": "505623e7a8dcb923",
   "outputs": [],
   "execution_count": 5
  },
  {
   "metadata": {},
   "cell_type": "markdown",
   "source": "# Exercise 5.1",
   "id": "c95f6c3a2420fc5c"
  },
  {
   "metadata": {},
   "cell_type": "markdown",
   "source": [
    "Given:\n",
    "\n",
    "$$\n",
    "\\begin{align}\n",
    "p(Y|X) &= \\frac{e^{\\beta_0 + \\beta_1 X}}{1+e^{\\beta_0 + \\beta_1 X}}\\\\\n",
    "p(X) &= p(Y=1|X)\\\\\n",
    "\\log \\left( \\frac{p(X)}{1-p(X)} \\right) &= \\beta_0 + \\beta_1 X\\\\\n",
    "\\end{align}\n",
    "$$\n",
    "\n",
    "Then:\n",
    "\n",
    "$$\n",
    "\\begin{align}\n",
    "\\log \\left[ \\frac{p(Y=1|X)}{1-p(Y=1|X)} \\right] &= \\beta_0 + \\beta_1 X\\\\\n",
    "\\log \\left[ \\frac{\\frac{e^{\\beta_0 + \\beta_1 X}}{1+e^{\\beta_0 + \\beta_1 X}}}{1 - \\frac{e^{\\beta_0 + \\beta_1 X}}{1+e^{\\beta_0 + \\beta_1 X}}} \\right] &= \\beta_0 + \\beta_1 X\\\\\n",
    "\\log\\left[\\frac{e^{\\beta_{0} + \\beta_{1}X}}{1+e^{\\beta_{0} + \\beta_{1}X}} \\cdot \\frac{1 + e^{\\beta_{0} + \\beta_{1}X}}{[1+e^{\\beta_{0} + \\beta_{1}X}] - e^{\\beta_{0} + \\beta_{1}X}} \\right] &= \\beta_{0} + \\beta_{1}X\\\\\n",
    "\\log\\left[e^{\\beta_{0} + \\beta_{1}X}\\right] &= \\beta_{0} + \\beta_{1}X \\quad \\text{, assuming log = ln}\\\\\n",
    "\\beta_{0} + \\beta_{1}X &= \\beta_{0} + \\beta_{1}X\n",
    "\\end{align}\n",
    "$$"
   ],
   "id": "c9822bbd9a6ca12b"
  },
  {
   "metadata": {},
   "cell_type": "markdown",
   "source": [
    "## \"Log-odds\" or \"Logit\"\n",
    "\n",
    "$$\n",
    "\\underbrace{\\ln\\left(\\frac{p(X)}{1 - p(X)}\\right)}_{\\text{\"log-odds\" or \"logit\"}} = \\beta_0 + \\beta_1 X\n",
    "$$"
   ],
   "id": "c5ac6fbe4fe55e32"
  },
  {
   "metadata": {},
   "cell_type": "markdown",
   "source": [
    "# Exercise 5.2\n",
    "\n",
    "$$\n",
    "odds = \\dfrac{p(X)}{1 - p(X)}\n",
    "$$\n",
    "\n",
    "### a)\n",
    "\n",
    "$$\n",
    "\\begin{align}\n",
    "0.47 &= \\frac{p(x)}{1-p(x)}\\\\\n",
    "0.47 - 0.47p(x) &= p(x)\\\\\n",
    "0.47 &= 1.47 \\cdot p(x)\\\\\n",
    "\\frac{0.47}{1.47} &= p(x)\\\\\n",
    "0.3197 &\\approx p(x)\n",
    "\\end{align}\n",
    "$$\n",
    "\n",
    "### b)\n",
    "\n",
    "$$\n",
    "\\mathrm{odds} = \\frac{0.25}{1 - 0.25} = \\frac{0.25}{0.75} = \\frac{1}{3} = 0.3\\overline{3}\n",
    "$$"
   ],
   "id": "67f22a846dbf549b"
  },
  {
   "metadata": {},
   "cell_type": "markdown",
   "source": [
    "# Exercise 5.3\n",
    "\n",
    "Simple Logistic Regression Model:\n",
    "\n",
    "$$\n",
    "p(Y = 1|X) = \\dfrac{e^{\\beta_0 + \\beta_1 X + ... + \\beta_n X}}{1+e^{\\beta_0 + \\beta_1 X + ... + \\beta_n X}}\\\\\n",
    "$$\n",
    "\n",
    "### a)"
   ],
   "id": "cc1c9b42e0ddbb59"
  },
  {
   "metadata": {
    "ExecuteTime": {
     "end_time": "2025-10-20T12:33:51.626573Z",
     "start_time": "2025-10-20T12:33:51.623684Z"
    }
   },
   "cell_type": "code",
   "source": [
    "b0 = -6\n",
    "b1 = 0.05\n",
    "b2 = 1\n",
    "\n",
    "x1 = 40\n",
    "x2 = 4.5\n",
    "\n",
    "y_pred = np.exp(b0 + b1 * x1 + b2 * x2) / (1 + np.exp(b0 + b1 * x1 + b2 * x2))\n",
    "y_pred"
   ],
   "id": "82c52633528a953b",
   "outputs": [
    {
     "data": {
      "text/plain": [
       "np.float64(0.6224593312018546)"
      ]
     },
     "execution_count": 6,
     "metadata": {},
     "output_type": "execute_result"
    }
   ],
   "execution_count": 6
  },
  {
   "metadata": {},
   "cell_type": "markdown",
   "source": [
    "### b)\n",
    "\n",
    "$$\n",
    "\\begin{align}\n",
    "0.7 &= \\frac{e^{-6+0.05 x_{1} + 1 \\cdot 4.5}}{1 \\cdot e^{-6 + 0.05x_{1}+1 \\cdot 4.5}}\\\\\n",
    "0.7 \\cdot (1+e^{0.05 x_{1} - 1.5}) &= e^{0.05 x_{1}-1.5}\\\\\n",
    "0.7 \\cdot (1+e^{0.05 x_{1}} \\cdot e^{-1.5}) &= e^{0.05 x_{1}} \\cdot e^{-1.5}\\\\\n",
    "0.7 + 0.7 e^{0.05 x_{1}} \\cdot e^{-1.5} &= e^{0.05 x_{1}} \\cdot e^{-1.5}\\\\\n",
    "0.7 &= e^{0.05 x_{1}} \\cdot e^{-1.5}-0.7 e^{0.05 x_{1}} \\cdot e^{-1.5}\\\\\n",
    "0.7 &= 0.3 e^{0.05 x_{1}} \\cdot e^{-1.5}\\\\\n",
    "\\frac{0.7}{0.3} &= e^{0.05 x_{1}} \\cdot e^{-1.5}\\\\\n",
    "\\frac{0.7}{0.3} \\cdot \\frac{1}{e^{-1.5}} &= e^{0.05 x_{1}}\\\\\n",
    "\\ln \\left[\\frac{0.7}{0.3 \\cdot e^{-1.5}} \\right] &= 0.05 x_{1}\\\\\n",
    "\\ln \\left[\\frac{0.7}{0.3 \\cdot e^{-1.5}} \\right] : 0.05 &= x_{1}\\\\\n",
    "\\end{align}\n",
    "$$"
   ],
   "id": "3d33577ecc14bd59"
  },
  {
   "metadata": {
    "ExecuteTime": {
     "end_time": "2025-10-20T13:16:04.423588Z",
     "start_time": "2025-10-20T13:16:04.419285Z"
    }
   },
   "cell_type": "code",
   "source": [
    "x1 = np.log(0.7 / (0.3 * np.exp(-1.5))) / 0.05\n",
    "\n",
    "x2 = 4.5\n",
    "b0 = -6\n",
    "b1 = 0.05\n",
    "b2 = 1\n",
    "\n",
    "y_pred = np.exp(b0 + b1 * x1 + b2 * x2) / (1 + np.exp(b0 + b1 * x1 + b2 * x2))\n",
    "x1, y_pred"
   ],
   "id": "ac0c9bf6aa005558",
   "outputs": [
    {
     "data": {
      "text/plain": [
       "(np.float64(46.94595720774407), np.float64(0.7000000000000001))"
      ]
     },
     "execution_count": 15,
     "metadata": {},
     "output_type": "execute_result"
    }
   ],
   "execution_count": 15
  },
  {
   "metadata": {},
   "cell_type": "markdown",
   "source": "To have a 70% chance of scoring a mark of 5.5 or better, we would expect the student from exercise a) to study at least 46.95 hours.",
   "id": "68ddfb8176a04c9a"
  }
 ],
 "metadata": {
  "kernelspec": {
   "display_name": "Python 3",
   "language": "python",
   "name": "python3"
  },
  "language_info": {
   "codemirror_mode": {
    "name": "ipython",
    "version": 2
   },
   "file_extension": ".py",
   "mimetype": "text/x-python",
   "name": "python",
   "nbconvert_exporter": "python",
   "pygments_lexer": "ipython2",
   "version": "2.7.6"
  }
 },
 "nbformat": 4,
 "nbformat_minor": 5
}
