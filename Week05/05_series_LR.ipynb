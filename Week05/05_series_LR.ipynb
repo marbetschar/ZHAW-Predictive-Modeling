{
 "cells": [
  {
   "metadata": {},
   "cell_type": "markdown",
   "source": "# Exercise 5.1",
   "id": "c95f6c3a2420fc5c"
  },
  {
   "metadata": {},
   "cell_type": "markdown",
   "source": [
    "Given:\n",
    "\n",
    "$$\n",
    "\\begin{align}\n",
    "p(Y|X) &= \\frac{e^{\\beta_0 + \\beta_1 X}}{1+e^{\\beta_0 + \\beta_1 X}}\\\\\n",
    "p(X) &= p(Y=1|X)\\\\\n",
    "\\log \\left( \\frac{p(X)}{1-p(X)} \\right) &= \\beta_0 + \\beta_1 X\\\\\n",
    "\\end{align}\n",
    "$$\n",
    "\n",
    "Then:\n",
    "\n",
    "$$\n",
    "\\begin{align}\n",
    "\\log \\left[ \\frac{p(Y=1|X)}{1-p(Y=1|X)} \\right] &= \\beta_0 + \\beta_1 X\\\\\n",
    "\\log \\left[ \\frac{\\frac{e^{\\beta_0 + \\beta_1 X}}{1+e^{\\beta_0 + \\beta_1 X}}}{1 - \\frac{e^{\\beta_0 + \\beta_1 X}}{1+e^{\\beta_0 + \\beta_1 X}}} \\right] &= \\beta_0 + \\beta_1 X\\\\\n",
    "\\log\\left[\\frac{e^{\\beta_{0} + \\beta_{1}X}}{1+e^{\\beta_{0} + \\beta_{1}X}} \\cdot \\frac{1 + e^{\\beta_{0} + \\beta_{1}X}}{[1+e^{\\beta_{0} + \\beta_{1}X}] - e^{\\beta_{0} + \\beta_{1}X}} \\right] &= \\beta_{0} + \\beta_{1}X\\\\\n",
    "\\log\\left[e^{\\beta_{0} + \\beta_{1}X}\\right] &= \\beta_{0} + \\beta_{1}X \\quad \\text{, assuming log = ln}\\\\\n",
    "\\beta_{0} + \\beta_{1}X &= \\beta_{0} + \\beta_{1}X\n",
    "\\end{align}\n",
    "$$"
   ],
   "id": "c9822bbd9a6ca12b"
  },
  {
   "metadata": {},
   "cell_type": "markdown",
   "source": [
    "## \"Log-odds\" or \"Logit\"\n",
    "\n",
    "$$\n",
    "\\underbrace{\\ln\\left(\\frac{p(X)}{1 - p(X)}\\right)}_{\\text{\"log-odds\" or \"logit\"}} = \\beta_0 + \\beta_1 X\n",
    "$$"
   ],
   "id": "c5ac6fbe4fe55e32"
  },
  {
   "metadata": {},
   "cell_type": "markdown",
   "source": [
    "# Exercise 5.2\n",
    "\n",
    "$$\n",
    "odds = \\dfrac{p(X)}{1 - p(X)}\n",
    "$$\n",
    "\n",
    "### a)\n",
    "\n",
    "$$\n",
    "\\begin{align}\n",
    "0.47 &= \\frac{p(x)}{1-p(x)}\\\\\n",
    "0.47 - 0.47p(x) &= p(x)\\\\\n",
    "0.47 &= 1.47 \\cdot p(x)\\\\\n",
    "\\frac{0.47}{1.47} &= p(x)\\\\\n",
    "0.3197 &\\approx p(x)\n",
    "\\end{align}\n",
    "$$\n",
    "\n",
    "### b)\n",
    "\n",
    "$$\n",
    "\\mathrm{odds} = \\frac{0.25}{1 - 0.25} = \\frac{0.25}{0.75} = \\frac{1}{3} = 0.3\\overline{3}\n",
    "$$"
   ],
   "id": "67f22a846dbf549b"
  },
  {
   "metadata": {},
   "cell_type": "markdown",
   "source": [
    "# Exercise 5.3\n",
    "\n",
    "### a)"
   ],
   "id": "cc1c9b42e0ddbb59"
  },
  {
   "metadata": {},
   "cell_type": "code",
   "outputs": [],
   "execution_count": null,
   "source": "",
   "id": "82c52633528a953b"
  }
 ],
 "metadata": {
  "kernelspec": {
   "display_name": "Python 3",
   "language": "python",
   "name": "python3"
  },
  "language_info": {
   "codemirror_mode": {
    "name": "ipython",
    "version": 2
   },
   "file_extension": ".py",
   "mimetype": "text/x-python",
   "name": "python",
   "nbconvert_exporter": "python",
   "pygments_lexer": "ipython2",
   "version": "2.7.6"
  }
 },
 "nbformat": 4,
 "nbformat_minor": 5
}
