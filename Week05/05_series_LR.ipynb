{
 "cells": [
  {
   "metadata": {
    "ExecuteTime": {
     "end_time": "2025-10-20T14:37:59.467169Z",
     "start_time": "2025-10-20T14:37:59.465166Z"
    }
   },
   "cell_type": "code",
   "source": [
    "import numpy as np\n",
    "import pandas as pd\n",
    "import statsmodels.api as sm\n",
    "import matplotlib.pyplot as plt"
   ],
   "id": "505623e7a8dcb923",
   "outputs": [],
   "execution_count": 122
  },
  {
   "metadata": {},
   "cell_type": "markdown",
   "source": "# Exercise 5.1",
   "id": "c95f6c3a2420fc5c"
  },
  {
   "metadata": {},
   "cell_type": "markdown",
   "source": [
    "Given:\n",
    "\n",
    "$$\n",
    "\\begin{align}\n",
    "p(Y|X) &= \\frac{e^{\\beta_0 + \\beta_1 X}}{1+e^{\\beta_0 + \\beta_1 X}}\\\\\n",
    "p(X) &= p(Y=1|X)\\\\\n",
    "\\log \\left( \\frac{p(X)}{1-p(X)} \\right) &= \\beta_0 + \\beta_1 X\\\\\n",
    "\\end{align}\n",
    "$$\n",
    "\n",
    "Then:\n",
    "\n",
    "$$\n",
    "\\begin{align}\n",
    "\\log \\left[ \\frac{p(Y=1|X)}{1-p(Y=1|X)} \\right] &= \\beta_0 + \\beta_1 X\\\\\n",
    "\\log \\left[ \\frac{\\frac{e^{\\beta_0 + \\beta_1 X}}{1+e^{\\beta_0 + \\beta_1 X}}}{1 - \\frac{e^{\\beta_0 + \\beta_1 X}}{1+e^{\\beta_0 + \\beta_1 X}}} \\right] &= \\beta_0 + \\beta_1 X\\\\\n",
    "\\log\\left[\\frac{e^{\\beta_{0} + \\beta_{1}X}}{1+e^{\\beta_{0} + \\beta_{1}X}} \\cdot \\frac{1 + e^{\\beta_{0} + \\beta_{1}X}}{[1+e^{\\beta_{0} + \\beta_{1}X}] - e^{\\beta_{0} + \\beta_{1}X}} \\right] &= \\beta_{0} + \\beta_{1}X\\\\\n",
    "\\log\\left[e^{\\beta_{0} + \\beta_{1}X}\\right] &= \\beta_{0} + \\beta_{1}X \\quad \\text{, assuming log = ln}\\\\\n",
    "\\beta_{0} + \\beta_{1}X &= \\beta_{0} + \\beta_{1}X\n",
    "\\end{align}\n",
    "$$"
   ],
   "id": "c9822bbd9a6ca12b"
  },
  {
   "metadata": {},
   "cell_type": "markdown",
   "source": [
    "## \"Log-odds\" or \"Logit\"\n",
    "\n",
    "$$\n",
    "\\underbrace{\\ln\\left(\\frac{p(X)}{1 - p(X)}\\right)}_{\\text{\"log-odds\" or \"logit\"}} = \\beta_0 + \\beta_1 X\n",
    "$$"
   ],
   "id": "c5ac6fbe4fe55e32"
  },
  {
   "metadata": {},
   "cell_type": "markdown",
   "source": [
    "# Exercise 5.2\n",
    "\n",
    "$$\n",
    "odds = \\dfrac{p(X)}{1 - p(X)}\n",
    "$$\n",
    "\n",
    "### a)\n",
    "\n",
    "$$\n",
    "\\begin{align}\n",
    "0.47 &= \\frac{p(x)}{1-p(x)}\\\\\n",
    "0.47 - 0.47p(x) &= p(x)\\\\\n",
    "0.47 &= 1.47 \\cdot p(x)\\\\\n",
    "\\frac{0.47}{1.47} &= p(x)\\\\\n",
    "0.3197 &\\approx p(x)\n",
    "\\end{align}\n",
    "$$\n",
    "\n",
    "### b)\n",
    "\n",
    "$$\n",
    "\\mathrm{odds} = \\frac{0.25}{1 - 0.25} = \\frac{0.25}{0.75} = \\frac{1}{3} = 0.3\\overline{3}\n",
    "$$"
   ],
   "id": "67f22a846dbf549b"
  },
  {
   "metadata": {},
   "cell_type": "markdown",
   "source": [
    "# Exercise 5.3\n",
    "\n",
    "Simple Logistic Regression Model:\n",
    "\n",
    "$$\n",
    "p(Y = 1|X) = \\dfrac{e^{\\beta_0 + \\beta_1 X_1 + ... + \\beta_n X_n}}{1+e^{\\beta_0 + \\beta_1 X_1 + ... + \\beta_n X_n}}\\\\\n",
    "$$\n",
    "\n",
    "### a)"
   ],
   "id": "cc1c9b42e0ddbb59"
  },
  {
   "metadata": {
    "ExecuteTime": {
     "end_time": "2025-10-20T14:37:59.474541Z",
     "start_time": "2025-10-20T14:37:59.472227Z"
    }
   },
   "cell_type": "code",
   "source": [
    "b0 = -6\n",
    "b1 = 0.05\n",
    "b2 = 1\n",
    "\n",
    "x1 = 40\n",
    "x2 = 4.5\n",
    "\n",
    "y_pred = np.exp(b0 + b1 * x1 + b2 * x2) / (1 + np.exp(b0 + b1 * x1 + b2 * x2))\n",
    "y_pred"
   ],
   "id": "82c52633528a953b",
   "outputs": [
    {
     "data": {
      "text/plain": [
       "np.float64(0.6224593312018546)"
      ]
     },
     "execution_count": 123,
     "metadata": {},
     "output_type": "execute_result"
    }
   ],
   "execution_count": 123
  },
  {
   "metadata": {},
   "cell_type": "markdown",
   "source": [
    "### b)\n",
    "\n",
    "$$\n",
    "\\begin{align}\n",
    "0.7 &= \\frac{e^{-6+0.05 x_{1} + 1 \\cdot 4.5}}{1 \\cdot e^{-6 + 0.05x_{1}+1 \\cdot 4.5}}\\\\\n",
    "0.7 \\cdot (1+e^{0.05 x_{1} - 1.5}) &= e^{0.05 x_{1}-1.5}\\\\\n",
    "0.7 \\cdot (1+e^{0.05 x_{1}} \\cdot e^{-1.5}) &= e^{0.05 x_{1}} \\cdot e^{-1.5}\\\\\n",
    "0.7 + 0.7 e^{0.05 x_{1}} \\cdot e^{-1.5} &= e^{0.05 x_{1}} \\cdot e^{-1.5}\\\\\n",
    "0.7 &= e^{0.05 x_{1}} \\cdot e^{-1.5}-0.7 e^{0.05 x_{1}} \\cdot e^{-1.5}\\\\\n",
    "0.7 &= 0.3 e^{0.05 x_{1}} \\cdot e^{-1.5}\\\\\n",
    "\\frac{0.7}{0.3} &= e^{0.05 x_{1}} \\cdot e^{-1.5}\\\\\n",
    "\\frac{0.7}{0.3} \\cdot \\frac{1}{e^{-1.5}} &= e^{0.05 x_{1}}\\\\\n",
    "\\ln \\left[\\frac{0.7}{0.3 \\cdot e^{-1.5}} \\right] &= 0.05 x_{1}\\\\\n",
    "\\ln \\left[\\frac{0.7}{0.3 \\cdot e^{-1.5}} \\right] : 0.05 &= x_{1}\\\\\n",
    "\\end{align}\n",
    "$$"
   ],
   "id": "3d33577ecc14bd59"
  },
  {
   "metadata": {
    "ExecuteTime": {
     "end_time": "2025-10-20T14:37:59.485226Z",
     "start_time": "2025-10-20T14:37:59.483012Z"
    }
   },
   "cell_type": "code",
   "source": [
    "x1 = np.log(0.7 / (0.3 * np.exp(-1.5))) / 0.05\n",
    "\n",
    "x2 = 4.5\n",
    "b0 = -6\n",
    "b1 = 0.05\n",
    "b2 = 1\n",
    "\n",
    "y_pred = np.exp(b0 + b1 * x1 + b2 * x2) / (1 + np.exp(b0 + b1 * x1 + b2 * x2))\n",
    "x1, y_pred"
   ],
   "id": "ac0c9bf6aa005558",
   "outputs": [
    {
     "data": {
      "text/plain": [
       "(np.float64(46.94595720774407), np.float64(0.7000000000000001))"
      ]
     },
     "execution_count": 124,
     "metadata": {},
     "output_type": "execute_result"
    }
   ],
   "execution_count": 124
  },
  {
   "metadata": {},
   "cell_type": "markdown",
   "source": "To have a 70% chance of scoring a mark of 5.5 or better, we would expect the student from exercise a) to study at least 46.95 hours.",
   "id": "68ddfb8176a04c9a"
  },
  {
   "metadata": {},
   "cell_type": "markdown",
   "source": "# Exercise 5.4",
   "id": "8f4c70de995ae4f3"
  },
  {
   "metadata": {
    "ExecuteTime": {
     "end_time": "2025-10-20T14:37:59.504272Z",
     "start_time": "2025-10-20T14:37:59.494979Z"
    }
   },
   "cell_type": "code",
   "source": [
    "df = pd.read_csv('./../Data/Default.csv', delimiter=';')\n",
    "\n",
    "# Add a numerical columns for default and student:\n",
    "df = pd.get_dummies(df, columns=['default', 'student'], drop_first=True)\n",
    "\n",
    "df"
   ],
   "id": "42e23d28fdedf13d",
   "outputs": [
    {
     "data": {
      "text/plain": [
       "      Unnamed: 0      balance       income  default_Yes  student_Yes\n",
       "0              1   729.526495  44361.62507        False        False\n",
       "1              2   817.180407  12106.13470        False         True\n",
       "2              3  1073.549164  31767.13895        False        False\n",
       "3              4   529.250605  35704.49394        False        False\n",
       "4              5   785.655883  38463.49588        False        False\n",
       "...          ...          ...          ...          ...          ...\n",
       "9995        9996   711.555020  52992.37891        False        False\n",
       "9996        9997   757.962918  19660.72177        False        False\n",
       "9997        9998   845.411989  58636.15698        False        False\n",
       "9998        9999  1569.009053  36669.11236        False        False\n",
       "9999       10000   200.922183  16862.95232        False         True\n",
       "\n",
       "[10000 rows x 5 columns]"
      ],
      "text/html": [
       "<div>\n",
       "<style scoped>\n",
       "    .dataframe tbody tr th:only-of-type {\n",
       "        vertical-align: middle;\n",
       "    }\n",
       "\n",
       "    .dataframe tbody tr th {\n",
       "        vertical-align: top;\n",
       "    }\n",
       "\n",
       "    .dataframe thead th {\n",
       "        text-align: right;\n",
       "    }\n",
       "</style>\n",
       "<table border=\"1\" class=\"dataframe\">\n",
       "  <thead>\n",
       "    <tr style=\"text-align: right;\">\n",
       "      <th></th>\n",
       "      <th>Unnamed: 0</th>\n",
       "      <th>balance</th>\n",
       "      <th>income</th>\n",
       "      <th>default_Yes</th>\n",
       "      <th>student_Yes</th>\n",
       "    </tr>\n",
       "  </thead>\n",
       "  <tbody>\n",
       "    <tr>\n",
       "      <th>0</th>\n",
       "      <td>1</td>\n",
       "      <td>729.526495</td>\n",
       "      <td>44361.62507</td>\n",
       "      <td>False</td>\n",
       "      <td>False</td>\n",
       "    </tr>\n",
       "    <tr>\n",
       "      <th>1</th>\n",
       "      <td>2</td>\n",
       "      <td>817.180407</td>\n",
       "      <td>12106.13470</td>\n",
       "      <td>False</td>\n",
       "      <td>True</td>\n",
       "    </tr>\n",
       "    <tr>\n",
       "      <th>2</th>\n",
       "      <td>3</td>\n",
       "      <td>1073.549164</td>\n",
       "      <td>31767.13895</td>\n",
       "      <td>False</td>\n",
       "      <td>False</td>\n",
       "    </tr>\n",
       "    <tr>\n",
       "      <th>3</th>\n",
       "      <td>4</td>\n",
       "      <td>529.250605</td>\n",
       "      <td>35704.49394</td>\n",
       "      <td>False</td>\n",
       "      <td>False</td>\n",
       "    </tr>\n",
       "    <tr>\n",
       "      <th>4</th>\n",
       "      <td>5</td>\n",
       "      <td>785.655883</td>\n",
       "      <td>38463.49588</td>\n",
       "      <td>False</td>\n",
       "      <td>False</td>\n",
       "    </tr>\n",
       "    <tr>\n",
       "      <th>...</th>\n",
       "      <td>...</td>\n",
       "      <td>...</td>\n",
       "      <td>...</td>\n",
       "      <td>...</td>\n",
       "      <td>...</td>\n",
       "    </tr>\n",
       "    <tr>\n",
       "      <th>9995</th>\n",
       "      <td>9996</td>\n",
       "      <td>711.555020</td>\n",
       "      <td>52992.37891</td>\n",
       "      <td>False</td>\n",
       "      <td>False</td>\n",
       "    </tr>\n",
       "    <tr>\n",
       "      <th>9996</th>\n",
       "      <td>9997</td>\n",
       "      <td>757.962918</td>\n",
       "      <td>19660.72177</td>\n",
       "      <td>False</td>\n",
       "      <td>False</td>\n",
       "    </tr>\n",
       "    <tr>\n",
       "      <th>9997</th>\n",
       "      <td>9998</td>\n",
       "      <td>845.411989</td>\n",
       "      <td>58636.15698</td>\n",
       "      <td>False</td>\n",
       "      <td>False</td>\n",
       "    </tr>\n",
       "    <tr>\n",
       "      <th>9998</th>\n",
       "      <td>9999</td>\n",
       "      <td>1569.009053</td>\n",
       "      <td>36669.11236</td>\n",
       "      <td>False</td>\n",
       "      <td>False</td>\n",
       "    </tr>\n",
       "    <tr>\n",
       "      <th>9999</th>\n",
       "      <td>10000</td>\n",
       "      <td>200.922183</td>\n",
       "      <td>16862.95232</td>\n",
       "      <td>False</td>\n",
       "      <td>True</td>\n",
       "    </tr>\n",
       "  </tbody>\n",
       "</table>\n",
       "<p>10000 rows × 5 columns</p>\n",
       "</div>"
      ]
     },
     "execution_count": 125,
     "metadata": {},
     "output_type": "execute_result"
    }
   ],
   "execution_count": 125
  },
  {
   "metadata": {},
   "cell_type": "markdown",
   "source": "### a)",
   "id": "4081080718839d5"
  },
  {
   "metadata": {
    "ExecuteTime": {
     "end_time": "2025-10-20T14:37:59.527175Z",
     "start_time": "2025-10-20T14:37:59.524506Z"
    }
   },
   "cell_type": "code",
   "source": [
    "np.random.seed(1)\n",
    "\n",
    "i_yes = df.loc[df['default_Yes'] == 1, :].index\n",
    "i_no = df.loc[df['default_Yes'] == 0, :].index\n",
    "i_no = np.random.choice(i_no, replace=False, size=i_yes.size)\n",
    "\n",
    "assert i_no.size == i_yes.size\n",
    "print(f\"total rows: {i_no.size + i_yes.size}\")"
   ],
   "id": "34d0828a7f0a3739",
   "outputs": [
    {
     "name": "stdout",
     "output_type": "stream",
     "text": [
      "total rows: 666\n"
     ]
    }
   ],
   "execution_count": 126
  },
  {
   "metadata": {},
   "cell_type": "markdown",
   "source": "### b)",
   "id": "bb8ca44e3f1654c2"
  },
  {
   "metadata": {
    "ExecuteTime": {
     "end_time": "2025-10-20T14:37:59.562275Z",
     "start_time": "2025-10-20T14:37:59.556993Z"
    }
   },
   "cell_type": "code",
   "source": [
    "# Fit Linear Model on downsampled data\n",
    "i = np.concatenate((i_no, i_yes))\n",
    "x = df.iloc[i]['student_Yes']\n",
    "y = df.iloc[i]['default_Yes']\n",
    "\n",
    "x_sm = sm.add_constant(x.astype('float'))\n",
    "\n",
    "model = sm.GLM(y, x_sm, family=sm.families.Binomial()).fit()\n",
    "print(model.summary())"
   ],
   "id": "af23343ab1ca8ac6",
   "outputs": [
    {
     "name": "stdout",
     "output_type": "stream",
     "text": [
      "                 Generalized Linear Model Regression Results                  \n",
      "==============================================================================\n",
      "Dep. Variable:            default_Yes   No. Observations:                  666\n",
      "Model:                            GLM   Df Residuals:                      664\n",
      "Model Family:                Binomial   Df Model:                            1\n",
      "Link Function:                  Logit   Scale:                          1.0000\n",
      "Method:                          IRLS   Log-Likelihood:                -458.17\n",
      "Date:                Mon, 20 Oct 2025   Deviance:                       916.34\n",
      "Time:                        16:37:59   Pearson chi2:                     666.\n",
      "No. Iterations:                     4   Pseudo R-squ. (CS):            0.01036\n",
      "Covariance Type:            nonrobust                                         \n",
      "===============================================================================\n",
      "                  coef    std err          z      P>|z|      [0.025      0.975]\n",
      "-------------------------------------------------------------------------------\n",
      "const          -0.1444      0.095     -1.517      0.129      -0.331       0.042\n",
      "student_Yes     0.4347      0.166      2.623      0.009       0.110       0.759\n",
      "===============================================================================\n"
     ]
    }
   ],
   "execution_count": 127
  },
  {
   "metadata": {
    "ExecuteTime": {
     "end_time": "2025-10-20T14:37:59.574213Z",
     "start_time": "2025-10-20T14:37:59.572244Z"
    }
   },
   "cell_type": "code",
   "source": [
    "student_defaults = model.predict([[1, True]])\n",
    "non_student_defaults = model.predict([[1, False]])\n",
    "\n",
    "student_defaults, non_student_defaults"
   ],
   "id": "fce52740c3f63f36",
   "outputs": [
    {
     "data": {
      "text/plain": [
       "(array([0.57207207]), array([0.46396396]))"
      ]
     },
     "execution_count": 128,
     "metadata": {},
     "output_type": "execute_result"
    }
   ],
   "execution_count": 128
  },
  {
   "metadata": {},
   "cell_type": "markdown",
   "source": [
    "Interestingly this model predicts that there is 57% probability for a student to default; wherelse it predicts only a 46% propability for a non-student to default.\n",
    "\n",
    "We can conclude that most of the students pay their debts. However, this model doesn't allow us to make any meaningful predictions whether non-students pay off their debts, because there we need to take other factors into consideration."
   ],
   "id": "ebc53342285a4f7b"
  },
  {
   "metadata": {},
   "cell_type": "markdown",
   "source": "### c)",
   "id": "de1e1b30bb7fb4e9"
  },
  {
   "metadata": {
    "ExecuteTime": {
     "end_time": "2025-10-20T14:47:32.616541Z",
     "start_time": "2025-10-20T14:47:32.610859Z"
    }
   },
   "cell_type": "code",
   "source": [
    "df_student_yes = df[df['student_Yes'] == True]\n",
    "df_student_no = df[df['student_Yes'] == False]\n",
    "\n",
    "i_no = np.random.choice(df_student_no.index, replace=False, size=df_student_yes.index.size)\n",
    "df_student_no = df_student_no.loc[i_no]\n",
    "\n",
    "assert df_student_no.size == df_student_yes.size"
   ],
   "id": "b0bbc0062b6f819b",
   "outputs": [],
   "execution_count": 132
  },
  {
   "metadata": {
    "ExecuteTime": {
     "end_time": "2025-10-20T14:54:04.269318Z",
     "start_time": "2025-10-20T14:54:04.208027Z"
    }
   },
   "cell_type": "code",
   "source": [
    "fig = plt.figure(figsize=(10, 4))\n",
    "\n",
    "ax1 = fig.add_subplot(1, 2, 1)\n",
    "ax1.set_title('Students')\n",
    "ax1.boxplot([df_student_yes[df_student_yes.default_Yes == False]['balance'], df_student_yes[df_student_yes.default_Yes == True]['balance']])\n",
    "ax1.set_xlabel('Default')\n",
    "ax1.set_ylabel('Balance')\n",
    "ax1.set_xticklabels(['No','Yes'])\n",
    "\n",
    "ax1 = fig.add_subplot(1, 2, 2)\n",
    "ax1.set_title('Non-Students')\n",
    "ax1.boxplot([df_student_no[df_student_no.default_Yes == False]['balance'], df_student_no[df_student_no.default_Yes == True]['balance']])\n",
    "ax1.set_xlabel('Default')\n",
    "ax1.set_ylabel('Balance')\n",
    "ax1.set_xticklabels(['No','Yes'])\n",
    "\n",
    "plt.tight_layout()\n",
    "plt.show()"
   ],
   "id": "64e52c2907e8a915",
   "outputs": [
    {
     "data": {
      "text/plain": [
       "<Figure size 1000x400 with 2 Axes>"
      ],
      "image/png": "[encoded data removed]"
     },
     "metadata": {},
     "output_type": "display_data",
     "jetTransient": {
      "display_id": null
     }
    }
   ],
   "execution_count": 142
  },
  {
   "metadata": {},
   "cell_type": "markdown",
   "source": "If we compare the Boxplots of Students vs. Non-Students as to whether they default, then the plots look very similar. It seems as like beeing a student doesn't really affect whether the debts are paid or not. There seem to be other, more important effect not covered by our model here - for example the value of the balance itself: It seems like if the balance is above 1'000, the chances are rather good that the debt is eventually paid.",
   "id": "9c94cc2477eebf7e"
  },
  {
   "metadata": {},
   "cell_type": "code",
   "outputs": [],
   "execution_count": null,
   "source": "",
   "id": "db805ebe1d8be657"
  }
 ],
 "metadata": {
  "kernelspec": {
   "display_name": "Python 3",
   "language": "python",
   "name": "python3"
  },
  "language_info": {
   "codemirror_mode": {
    "name": "ipython",
    "version": 2
   },
   "file_extension": ".py",
   "mimetype": "text/x-python",
   "name": "python",
   "nbconvert_exporter": "python",
   "pygments_lexer": "ipython2",
   "version": "2.7.6"
  }
 },
 "nbformat": 4,
 "nbformat_minor": 5
}
