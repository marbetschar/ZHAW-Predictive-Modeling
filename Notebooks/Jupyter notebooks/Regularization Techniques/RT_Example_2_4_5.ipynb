{
 "cells": [
  {
   "cell_type": "markdown",
   "metadata": {},
   "source": [
    "### Regularization Methods Example 2.4:\n",
    "We now split the samples of the **Credit** data set into a training set and a test set in order to estimate the test error of ridge regression and the lasso. The splitting can be easily achieved using the **train\\_test\\_split()** function from **sklearn.model\\_selection**. \n",
    "We first set a random seed so that the results obtained will be reproducible."
   ]
  },
  {
   "cell_type": "code",
   "execution_count": 3,
   "metadata": {},
   "outputs": [],
   "source": [
    "import pandas as pd\n",
    "import numpy as np\n",
    "from sklearn.linear_model import Ridge\n",
    "from sklearn.model_selection import train_test_split\n",
    "\n",
    "# Load data\n",
    "df = pd.read_csv('./data/Credit.csv', index_col=\"Unnamed: 0\")\n",
    "\n",
    "# Convert Categorical variables\n",
    "df = pd.get_dummies(data=df, drop_first=True, \n",
    "                    prefix=('Gender_', 'Student_', \n",
    "                            'Married_', 'Ethnicity_'))\n",
    "\n",
    "# Define target and predictors\n",
    "x = df.drop(columns='Balance') \n",
    "y = df['Balance']\n",
    "\n",
    "# Split in test and train set\n",
    "np.random.seed(10)\n",
    "x_train, x_test, y_train, y_test = train_test_split(x, y, \n",
    "                                                    test_size=0.5)"
   ]
  },
  {
   "cell_type": "markdown",
   "metadata": {},
   "source": [
    "We now split the samples of the **Credit** data set into a training set and a test set in order to estimate the test error of ridge regression and the lasso. \n",
    "The splitting can be easily achieved using the **train\\_test\\_split()** function from **sklearn.model\\_selection**. We first set a random seed so that the results obtained will be reproducible."
   ]
  },
  {
   "cell_type": "code",
   "execution_count": 4,
   "metadata": {},
   "outputs": [
    {
     "name": "stdout",
     "output_type": "stream",
     "text": [
      "                 Feature  Coefficient\n",
      "0                 Income        0.656\n",
      "1                  Limit        0.028\n",
      "2                 Rating        0.418\n",
      "3                  Cards        4.490\n",
      "4                    Age       -0.323\n",
      "5              Education       -0.251\n",
      "6           Gender__Male       -8.147\n",
      "7           Student__Yes       99.132\n",
      "8           Married__Yes        3.622\n",
      "9       Ethnicity__Asian       -1.485\n",
      "10  Ethnicity__Caucasian        1.972\n",
      "\n",
      "MSE: 116077.3\n"
     ]
    }
   ],
   "source": [
    "import warnings\n",
    "warnings.filterwarnings(\"ignore\")\n",
    "\n",
    "\n",
    "# Model for lambda=4\n",
    "params = pd.DataFrame(columns=x.columns)\n",
    "lambda_ = 4\n",
    "\n",
    "# Fit model:\n",
    "reg = Ridge(alpha=lambda_, normalize=True)\n",
    "reg = reg.fit(x_train, y_train)\n",
    "\n",
    "# Coeficient and coresponding predictors\n",
    "coef = np.round(reg.coef_, 3)\n",
    "x_cols = x.columns.values\n",
    "\n",
    "print(pd.DataFrame(data={'Feature': x_cols,\n",
    "                         'Coefficient':coef}))\n",
    "\n",
    "# Predict and calculate MSE on test-set\n",
    "y_pred = reg.predict(x_test)\n",
    "MSE = np.mean((y_pred - y_test)**2)\n",
    "print(\"\\nMSE:\", np.round(MSE, 1))"
   ]
  },
  {
   "cell_type": "markdown",
   "metadata": {},
   "source": [
    "The test MSE is $116077.3$. Note that if we had instead simply fit a model with just an intercept, we would have predicted each test observation using the mean of the training observations. In that case, we could compute the test set MSE like this:"
   ]
  },
  {
   "cell_type": "code",
   "execution_count": 5,
   "metadata": {},
   "outputs": [
    {
     "name": "stdout",
     "output_type": "stream",
     "text": [
      "MSE: 214872.8\n"
     ]
    }
   ],
   "source": [
    "MSE = np.mean((np.mean(y_train) - y_test)**2)\n",
    "print(\"MSE:\", np.round(MSE, 1))"
   ]
  },
  {
   "cell_type": "markdown",
   "metadata": {},
   "source": [
    "We could also get the same result by fitting a ridge regression model with a very large value of $\\lambda$. "
   ]
  },
  {
   "cell_type": "code",
   "execution_count": 6,
   "metadata": {},
   "outputs": [
    {
     "name": "stdout",
     "output_type": "stream",
     "text": [
      "                 Feature  Coefficient\n",
      "0                 Income          0.0\n",
      "1                  Limit          0.0\n",
      "2                 Rating          0.0\n",
      "3                  Cards          0.0\n",
      "4                    Age         -0.0\n",
      "5              Education         -0.0\n",
      "6           Gender__Male         -0.0\n",
      "7           Student__Yes          0.0\n",
      "8           Married__Yes          0.0\n",
      "9       Ethnicity__Asian         -0.0\n",
      "10  Ethnicity__Caucasian          0.0\n",
      "\n",
      "MSE: 214872.8\n"
     ]
    }
   ],
   "source": [
    "# Model for lambda=inf\n",
    "lambda_ = 1e10\n",
    "\n",
    "# Fit model:\n",
    "reg = Ridge(alpha=lambda_, normalize=True)\n",
    "reg = reg.fit(x_train, y_train)\n",
    "\n",
    "# Coeficient and coresponding predictors\n",
    "coef = np.round(reg.coef_, 3)\n",
    "x_cols = x.columns.values\n",
    "\n",
    "print(pd.DataFrame(data={'Feature': x_cols,\n",
    "                         'Coefficient':coef}))\n",
    "\n",
    "# Predict and calculate MSE on test-set\n",
    "y_pred = reg.predict(x_test)\n",
    "MSE = np.mean((y_pred - y_test)**2)\n",
    "print(\"\\nMSE:\", np.round(MSE, 1))"
   ]
  },
  {
   "cell_type": "markdown",
   "metadata": {},
   "source": [
    "So fitting a ridge regression model with $\\lambda = 4$ leads to a much lower test MSE than fitting a model with just an intercept. We now check whether there is any benefit to performing ridge regression with $\\lambda = 4$ instead of just performing least squares regression. Recall that least squares is simply ridge regression with $\\lambda=0$."
   ]
  },
  {
   "cell_type": "code",
   "execution_count": 7,
   "metadata": {},
   "outputs": [
    {
     "name": "stdout",
     "output_type": "stream",
     "text": [
      "                 Feature  Coefficient\n",
      "0                 Income       -7.666\n",
      "1                  Limit        0.168\n",
      "2                 Rating        1.421\n",
      "3                  Cards       20.156\n",
      "4                    Age       -0.333\n",
      "5              Education        0.942\n",
      "6           Gender__Male      -13.405\n",
      "7           Student__Yes      455.791\n",
      "8           Married__Yes      -10.613\n",
      "9       Ethnicity__Asian       18.956\n",
      "10  Ethnicity__Caucasian       27.706\n",
      "\n",
      "MSE: 10730.6\n"
     ]
    }
   ],
   "source": [
    "# Model for lambda=0\n",
    "lambda_ = 0\n",
    "\n",
    "# Fit model:\n",
    "reg = Ridge(alpha=lambda_, normalize=True)\n",
    "reg = reg.fit(x_train, y_train)\n",
    "\n",
    "# Coeficient and coresponding predictors\n",
    "coef = np.round(reg.coef_, 3)\n",
    "x_cols = x.columns.values\n",
    "\n",
    "print(pd.DataFrame(data={'Feature': x_cols,\n",
    "                         'Coefficient':coef}))\n",
    "\n",
    "# Predict and calculate MSE on test-set\n",
    "y_pred = reg.predict(x_test)\n",
    "MSE = np.mean((y_pred - y_test)**2)\n",
    "print(\"\\nMSE:\", np.round(MSE, 1))"
   ]
  },
  {
   "cell_type": "markdown",
   "metadata": {},
   "source": [
    "The MSE resulting form Ridge regression with $\\lambda=4$ is larger than the MSE resulting from least squares which is not surprising since we have arbitrarily chosen $\\lambda=4$.\n",
    "\n",
    "In general, instead of arbitrarily choosing $\\lambda=4$, it would be better to use cross-validation to choose the tuning parameter $\\lambda$."
   ]
  },
  {
   "cell_type": "markdown",
   "metadata": {},
   "source": [
    "### Regularization Methods Example 2.5:\n",
    "We can do this using the **RidgeCV()** function. By default, the number of folds equals the number of observations (*leave-one-out*), but this can be changed using the **cv** setting. "
   ]
  },
  {
   "cell_type": "code",
   "execution_count": 8,
   "metadata": {},
   "outputs": [
    {
     "data": {
      "image/png": "[encoded data removed]",
      "text/plain": [
       "<Figure size 720x360 with 1 Axes>"
      ]
     },
     "metadata": {
      "needs_background": "light"
     },
     "output_type": "display_data"
    }
   ],
   "source": [
    "from sklearn.linear_model import RidgeCV\n",
    "import matplotlib.pyplot as plt\n",
    "\n",
    "n=100\n",
    "lambda_ = np.exp(np.linspace(-5, 6, n))\n",
    "\n",
    "# Fit model:\n",
    "reg = RidgeCV(alphas=lambda_, store_cv_values=True, normalize=True)\n",
    "reg = reg.fit(x_train, y_train)\n",
    "\n",
    "# Plot\n",
    "fig = plt.figure(figsize=(10, 5))\n",
    "ax = fig.add_subplot(1, 1, 1)\n",
    "ax.plot(np.log(lambda_), np.mean(reg.cv_values_, axis=0))\n",
    "plt.xlabel(\"log Lambda\")\n",
    "plt.ylabel(\"MSE\")\n",
    "plt.show()"
   ]
  },
  {
   "cell_type": "code",
   "execution_count": 9,
   "metadata": {},
   "outputs": [
    {
     "name": "stdout",
     "output_type": "stream",
     "text": [
      "Best Lambda: 0.007\n"
     ]
    }
   ],
   "source": [
    "print(\"Best Lambda:\", np.round(reg.alpha_, 3))"
   ]
  },
  {
   "cell_type": "markdown",
   "metadata": {},
   "source": [
    "Therefore, we see that the value of $\\lambda$ that results in the smallest cross-validation error is $0.007$. What is the test MSE associated with this value of\n",
    "$\\lambda$?\n"
   ]
  },
  {
   "cell_type": "code",
   "execution_count": 10,
   "metadata": {},
   "outputs": [
    {
     "name": "stdout",
     "output_type": "stream",
     "text": [
      "MSE: 10894.1\n"
     ]
    }
   ],
   "source": [
    "# Predict and calculate MSE on test-set\n",
    "y_pred = reg.predict(x_test)\n",
    "MSE = np.mean((y_pred - y_test)**2)\n",
    "print(\"MSE:\", np.round(MSE, 1))"
   ]
  },
  {
   "cell_type": "markdown",
   "metadata": {},
   "source": [
    "Note that the best model is already returned by **RidgeCV**, we dont need to fit it again. The test MSE does represent an improvement over the test MSE we got using $\\lambda=4$. Now we can also find the coefficients of the model. "
   ]
  },
  {
   "cell_type": "code",
   "execution_count": 11,
   "metadata": {},
   "outputs": [
    {
     "name": "stdout",
     "output_type": "stream",
     "text": [
      "                 Feature  Coefficient\n",
      "0                 Income       -7.406\n",
      "1                  Limit        0.139\n",
      "2                 Rating        1.803\n",
      "3                  Cards       18.373\n",
      "4                    Age       -0.382\n",
      "5              Education        0.984\n",
      "6           Gender__Male      -13.514\n",
      "7           Student__Yes      451.436\n",
      "8           Married__Yes      -10.541\n",
      "9       Ethnicity__Asian       20.025\n",
      "10  Ethnicity__Caucasian       28.396\n"
     ]
    }
   ],
   "source": [
    "# Coeficient and coresponding predictors\n",
    "coef = np.round(reg.coef_, 3)\n",
    "x_cols = x.columns.values\n",
    "\n",
    "print(pd.DataFrame(data={'Feature': x_cols,\n",
    "                         'Coefficient':coef}))"
   ]
  },
  {
   "cell_type": "markdown",
   "metadata": {},
   "source": [
    "### Regularization Methods Example 2.6\n",
    "We now ask whether the lasso can yield either a more accurate or a more interpretable model than ridge regression."
   ]
  },
  {
   "cell_type": "code",
   "execution_count": 12,
   "metadata": {},
   "outputs": [
    {
     "data": {
      "image/png": "[encoded data removed]",
      "text/plain": [
       "<Figure size 720x360 with 1 Axes>"
      ]
     },
     "metadata": {
      "needs_background": "light"
     },
     "output_type": "display_data"
    }
   ],
   "source": [
    "from sklearn.linear_model import LassoCV\n",
    "\n",
    "lambda_ = np.exp(np.linspace(-2, 4, n))\n",
    "\n",
    "# Fit model:\n",
    "reg = LassoCV(alphas=lambda_, normalize=True)\n",
    "reg = reg.fit(x_train, y_train)\n",
    "\n",
    "# Plot\n",
    "fig = plt.figure(figsize=(10, 5))\n",
    "ax = fig.add_subplot(1, 1, 1)\n",
    "ax.plot(np.log(reg.alphas_), np.mean(reg.mse_path_, axis=1))\n",
    "plt.xlabel(\"log Lambda\")\n",
    "plt.ylabel(\"MSE\")\n",
    "plt.show()"
   ]
  },
  {
   "cell_type": "markdown",
   "metadata": {},
   "source": [
    "We can see from the coefficient plot that depending on the choice of tuning parameter, some of the coefficients will be exactly equal to zero. We now compute the associated test error."
   ]
  },
  {
   "cell_type": "code",
   "execution_count": 13,
   "metadata": {},
   "outputs": [
    {
     "name": "stdout",
     "output_type": "stream",
     "text": [
      "Best Lambda: 0.135 \n",
      "MSE: 10538.4\n"
     ]
    }
   ],
   "source": [
    "# Predict and calculate MSE on test-set\n",
    "y_pred = reg.predict(x_test)\n",
    "MSE = np.mean((y_pred - y_test)**2)\n",
    "print(\"Best Lambda:\", np.round(reg.alpha_, 3), \"\\nMSE:\", np.round(MSE, 1))"
   ]
  },
  {
   "cell_type": "markdown",
   "metadata": {},
   "source": [
    "This is substantially lower than the test set MSE of the null model, the test MSE of ridge regression with $\\lambda$ chosen by cross-validation, and very similar to least squares. Finally, we will have a look at the corresponding coefficients."
   ]
  },
  {
   "cell_type": "code",
   "execution_count": 14,
   "metadata": {},
   "outputs": [
    {
     "name": "stdout",
     "output_type": "stream",
     "text": [
      "                 Feature  Coefficient\n",
      "0                 Income       -7.410\n",
      "1                  Limit        0.166\n",
      "2                 Rating        1.392\n",
      "3                  Cards       18.422\n",
      "4                    Age       -0.277\n",
      "5              Education        0.111\n",
      "6           Gender__Male       -8.978\n",
      "7           Student__Yes      448.564\n",
      "8           Married__Yes       -4.421\n",
      "9       Ethnicity__Asian        7.698\n",
      "10  Ethnicity__Caucasian       17.483\n"
     ]
    }
   ],
   "source": [
    "# Coeficient and coresponding predictors\n",
    "coef = np.round(reg.coef_,  3)\n",
    "x_cols = x.columns.values\n",
    "\n",
    "print(pd.DataFrame(data={'Feature': x_cols,\n",
    "                         'Coefficient':coef}))"
   ]
  },
  {
   "cell_type": "markdown",
   "metadata": {},
   "source": [
    "In this example, all coefficients are different from zero."
   ]
  }
 ],
 "metadata": {
  "kernelspec": {
   "display_name": "Python 3",
   "language": "python",
   "name": "python3"
  },
  "language_info": {
   "codemirror_mode": {
    "name": "ipython",
    "version": 3
   },
   "file_extension": ".py",
   "mimetype": "text/x-python",
   "name": "python",
   "nbconvert_exporter": "python",
   "pygments_lexer": "ipython3",
   "version": "3.7.6"
  },
  "widgets": {
   "application/vnd.jupyter.widget-state+json": {
    "state": {},
    "version_major": 2,
    "version_minor": 0
   }
  }
 },
 "nbformat": 4,
 "nbformat_minor": 5
}
