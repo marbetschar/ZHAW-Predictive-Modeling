{
 "cells": [
  {
   "cell_type": "markdown",
   "metadata": {},
   "source": [
    "## Regularization Methods Example 2.3:\n",
    "In order to fit a lasso model, we use the **sklearn.linear\\_model.Lasso()** function, which behaves very similar to the **Ridge()** function. "
   ]
  },
  {
   "cell_type": "code",
   "execution_count": 3,
   "metadata": {},
   "outputs": [],
   "source": [
    "import pandas as pd\n",
    "import numpy as np\n",
    "from sklearn.linear_model import Lasso\n",
    "import warnings\n",
    "warnings.filterwarnings(\"ignore\")\n",
    "\n",
    "# Load data\n",
    "df = pd.read_csv('./data/Credit.csv', index_col=\"Unnamed: 0\")\n",
    "\n",
    "# Convert Categorical variables\n",
    "df = pd.get_dummies(data=df, drop_first=True, \n",
    "                    prefix=('Gender_', 'Student_', \n",
    "                            'Married_', 'Ethnicity_'))\n",
    "\n",
    "# Define target and predictors\n",
    "x = df.drop(columns='Balance') \n",
    "y = df['Balance']\n",
    "\n",
    "# Fit model:\n",
    "lambda_ = 5\n",
    "reg = Lasso(alpha=lambda_, normalize=True)\n",
    "reg = reg.fit(x, y)\n",
    "\n",
    "# Coefficient and corresponding predictors\n",
    "coef = np.round(reg.coef_, 3)\n",
    "x_cols = x.columns.values"
   ]
  },
  {
   "cell_type": "markdown",
   "metadata": {},
   "source": [
    "We expect the coefficient estimates to be much smaller, in terms of $\\ell_2$ norm, when a large value of $\\lambda$ is used, as compared to when a small value of $\\lambda$ is used. These are the coefficients when $\\lambda = 5$, along with their $\\ell_2$ norm:"
   ]
  },
  {
   "cell_type": "code",
   "execution_count": 4,
   "metadata": {},
   "outputs": [
    {
     "name": "stdout",
     "output_type": "stream",
     "text": [
      "                 Feature  Coefficient\n",
      "0                 Income       -0.000\n",
      "1                  Limit        0.010\n",
      "2                 Rating        1.769\n",
      "3                  Cards        0.000\n",
      "4                    Age       -0.000\n",
      "5              Education        0.000\n",
      "6           Gender__Male       -0.000\n",
      "7           Student__Yes       65.438\n",
      "8           Married__Yes       -0.000\n",
      "9       Ethnicity__Asian        0.000\n",
      "10  Ethnicity__Caucasian       -0.000 \n",
      "\n",
      "l2-norm: 65.46190728202167\n"
     ]
    }
   ],
   "source": [
    "print(pd.DataFrame(data={'Feature': x_cols,\n",
    "                         'Coefficient':coef}),\n",
    "      '\\n\\nl2-norm:', np.sqrt(np.sum(coef**2)))"
   ]
  },
  {
   "cell_type": "markdown",
   "metadata": {},
   "source": [
    "In contrast, here are the coefficients when $\\lambda = 0.5$, along with their $\\ell_2$ norm. Note the much higher $\\ell_2$ norm of the coefficients associated with this lower value of $\\lambda$."
   ]
  },
  {
   "cell_type": "code",
   "execution_count": 5,
   "metadata": {},
   "outputs": [
    {
     "name": "stdout",
     "output_type": "stream",
     "text": [
      "                 Feature  Coefficient\n",
      "0                 Income       -6.491\n",
      "1                  Limit        0.145\n",
      "2                 Rating        1.508\n",
      "3                  Cards        9.417\n",
      "4                    Age       -0.236\n",
      "5              Education       -0.000\n",
      "6           Gender__Male        0.000\n",
      "7           Student__Yes      387.093\n",
      "8           Married__Yes       -0.000\n",
      "9       Ethnicity__Asian        0.000\n",
      "10  Ethnicity__Caucasian        0.000 \n",
      "\n",
      "l2-norm: 387.26496666236153\n"
     ]
    }
   ],
   "source": [
    "# Fit model:\n",
    "lambda_ = 0.5\n",
    "reg = Lasso(alpha=lambda_, normalize=True)\n",
    "reg = reg.fit(x, y)\n",
    "\n",
    "# Coefficient and corresponding predictors\n",
    "coef = np.round(reg.coef_, 3)\n",
    "x_cols = x.columns.values\n",
    "\n",
    "print(pd.DataFrame(data={'Feature': x_cols,\n",
    "                         'Coefficient':coef}),\n",
    "      '\\n\\nl2-norm:', np.sqrt(np.sum(coef**2)))"
   ]
  },
  {
   "cell_type": "markdown",
   "metadata": {},
   "source": [
    "As we can observe, several coefficients have become zero. The larger the value of $\\lambda$ the more coefficients become zero. Variable selection thus is generically implemented in the lasso."
   ]
  },
  {
   "cell_type": "markdown",
   "metadata": {},
   "source": [
    "### Figure"
   ]
  },
  {
   "cell_type": "code",
   "execution_count": 10,
   "metadata": {},
   "outputs": [
    {
     "data": {
      "image/png": "[encoded data removed]",
      "text/plain": [
       "<Figure size 576x360 with 1 Axes>"
      ]
     },
     "metadata": {
      "needs_background": "light"
     },
     "output_type": "display_data"
    }
   ],
   "source": [
    "import matplotlib.pyplot as plt\n",
    "\n",
    "# Model for different lambda\n",
    "n = 100\n",
    "lambda_ = np.exp(np.linspace(-5, 5, n))\n",
    "\n",
    "params = pd.DataFrame(columns=x.columns)\n",
    "for i in range(n):\n",
    "    reg = Lasso(alpha=lambda_[i], normalize=True)\n",
    "    reg = reg.fit(x, y)\n",
    "    params.loc[np.log(lambda_[i]), :] = reg.coef_\n",
    "    \n",
    "# Plot\n",
    "fig = plt.figure(figsize=(8, 5))\n",
    "ax = fig.add_subplot(1, 1, 1)\n",
    "params.plot(ax=ax)\n",
    "plt.xlabel(\"log Lambda\")\n",
    "plt.ylabel(\"Coefficient\")\n",
    "plt.legend()\n",
    "plt.show()"
   ]
  },
  {
   "cell_type": "code",
   "execution_count": null,
   "metadata": {},
   "outputs": [],
   "source": []
  }
 ],
 "metadata": {
  "kernelspec": {
   "display_name": "Python 3",
   "language": "python",
   "name": "python3"
  },
  "language_info": {
   "codemirror_mode": {
    "name": "ipython",
    "version": 3
   },
   "file_extension": ".py",
   "mimetype": "text/x-python",
   "name": "python",
   "nbconvert_exporter": "python",
   "pygments_lexer": "ipython3",
   "version": "3.7.6"
  },
  "widgets": {
   "application/vnd.jupyter.widget-state+json": {
    "state": {},
    "version_major": 2,
    "version_minor": 0
   }
  }
 },
 "nbformat": 4,
 "nbformat_minor": 5
}
